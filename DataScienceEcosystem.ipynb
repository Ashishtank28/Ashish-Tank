{
 "cells": [
  {
   "cell_type": "markdown",
   "id": "e72d2970",
   "metadata": {},
   "source": [
    "# Data Science Tools and Ecosystem\n"
   ]
  },
  {
   "cell_type": "markdown",
   "id": "c73da26c",
   "metadata": {},
   "source": [
    "## In this notebook, Data Science Tools and Ecosystem are summarized."
   ]
  },
  {
   "cell_type": "markdown",
   "id": "3a080384",
   "metadata": {},
   "source": [
    "# **Objectives:**\n",
    "\n",
    "- List of Popular languages that Data Scientists use\n",
    "- ist of Commonly used libraries used by Data Scientists\n",
    "- Table of Data Science Tools\n",
    "- Few examples of evaluating arithmetic expressions in Python\n",
    "\n"
   ]
  },
  {
   "cell_type": "markdown",
   "id": "e364a06e",
   "metadata": {},
   "source": [
    "### Some of the popular languages that Data Scientists use are:\n",
    "\n",
    "### 1. Python\n",
    "### 2. R\n",
    "### 3. SQL\n",
    "### 4. SCALA\n",
    "### 5. JAVA\n",
    "### 6. C++\n",
    "### 7. JULIA\n",
    "### 8. JS\n",
    "### 9. PHP\n",
    "### 10. RUBI"
   ]
  },
  {
   "cell_type": "markdown",
   "id": "d842a08e",
   "metadata": {},
   "source": [
    "### Some of the commonly used libraries used by Data Scientists include:\n",
    "\n",
    "### 1. Pandas\n",
    "### 2. NumPy\n",
    "### 3. SciPy\n",
    "### 4. Matplotib\n",
    "### 5. Tensorflow\n",
    "### 6. PyTorch\n",
    "### 7. Keras\n",
    "### 8. Scikit"
   ]
  },
  {
   "cell_type": "markdown",
   "id": "9e911f4e",
   "metadata": {},
   "source": [
    "### Table of Data Science Tools\n",
    "\n",
    "|**Data Science Tools**|\n",
    "|----------------------|\n",
    "|Jupyter Notebooks     |\n",
    "|RStudio               |\n",
    "|GitHub                |\n"
   ]
  },
  {
   "cell_type": "markdown",
   "id": "cada7fc4",
   "metadata": {},
   "source": [
    "### Below are a few examples of evaluating arithmetic expressions in Python.\n"
   ]
  },
  {
   "cell_type": "code",
   "execution_count": 12,
   "id": "346c55ca",
   "metadata": {},
   "outputs": [
    {
     "data": {
      "text/plain": [
       "17"
      ]
     },
     "execution_count": 12,
     "metadata": {},
     "output_type": "execute_result"
    }
   ],
   "source": [
    "# This a simple arithmetic expression to mutiply then add integers\n",
    "\n",
    "(3*4)+5"
   ]
  },
  {
   "cell_type": "code",
   "execution_count": 11,
   "id": "3703e458",
   "metadata": {},
   "outputs": [
    {
     "data": {
      "text/plain": [
       "3.3333333333333335"
      ]
     },
     "execution_count": 11,
     "metadata": {},
     "output_type": "execute_result"
    }
   ],
   "source": [
    "#  This will convert 200 minutes to hours by diving by 60\n",
    "\n",
    "200/60"
   ]
  },
  {
   "cell_type": "markdown",
   "id": "959f5ac0",
   "metadata": {},
   "source": [
    "## Author \n",
    "\n",
    "### Ashishkumar Jaysukhbhai Tank"
   ]
  }
 ],
 "metadata": {
  "kernelspec": {
   "display_name": "Python 3 (ipykernel)",
   "language": "python",
   "name": "python3"
  },
  "language_info": {
   "codemirror_mode": {
    "name": "ipython",
    "version": 3
   },
   "file_extension": ".py",
   "mimetype": "text/x-python",
   "name": "python",
   "nbconvert_exporter": "python",
   "pygments_lexer": "ipython3",
   "version": "3.11.5"
  }
 },
 "nbformat": 4,
 "nbformat_minor": 5
}
